{
 "cells": [
  {
   "cell_type": "markdown",
   "metadata": {},
   "source": [
    "# FTOPSIS-Class"
   ]
  },
  {
   "cell_type": "markdown",
   "metadata": {},
   "source": [
    "## Passos\n",
    "\n",
    "1. Definir o Problema\n",
    "2. Construir a Matriz de Decisão Fuzz\n",
    "3. Normalizar a Matriz de Decisão Fuzzy\n",
    "4. Determinar a Matriz de Decisão Fuzzy Normalizada Ponderada\n",
    "5. Identificar a Solução Ideal Fuzzy Positiva (FPIS) e a Solução Ideal Fuzzy Negativa (FNIS)\n",
    "6. Calcular a Distância de Cada Alternativa para FPIS e FNIS\n",
    "7. Calcular a Proximidade Relativa à Solução Ideal\n",
    "8. Classificar as Alternativas"
   ]
  },
  {
   "cell_type": "markdown",
   "metadata": {},
   "source": [
    "- Gestão de fornecedores:\n",
    "- Objetivo: avaliar fornecedores ativos e classifica-los quanto à capacidade de atender os seguintes critérios:\n",
    "    - C1: Capacitação em gestão da qualidade;\n",
    "    - C2: Capacidade de resolução de problemas;\n",
    "    - C3: Entregas corretas;\n",
    "    - C4: Saúde financeira.\n",
    "- Classificação em 3 níveis:\n",
    "    - Preferível;\n",
    "    - Aceitável;\n",
    "    - Inaceitável."
   ]
  },
  {
   "cell_type": "code",
   "execution_count": 7,
   "metadata": {},
   "outputs": [],
   "source": [
    "#Importando as bibliotecas\n",
    "import numpy as np\n",
    "import pandas as pd\n",
    "\n",
    "from ftopsis_class import CriteriaType as ct\n",
    "from ftopsis_class import FTOPSISClass as ft"
   ]
  },
  {
   "cell_type": "code",
   "execution_count": 2,
   "metadata": {},
   "outputs": [],
   "source": [
    "# Váriáveis Linguísticas para avaliação alternativas\n",
    "MR = np.array([0.0, 0.0, 2.5]) # Muito Ruim\n",
    "R = np.array([0.0, 2.5, 5.0]) # Ruim\n",
    "M = np.array([2.5, 5.0, 7.5]) # Medio\n",
    "B = np.array([5.0, 7.5, 10.0]) # Bom\n",
    "MB = np.array([7.5, 10.0, 10.0]) # Muito Bom\n",
    "\n",
    "#Variáveis Linguísticas dos pesos dos critérios\n",
    "NI = np.array([0.2, 0.2, 0.4]) # Nada Importante\n",
    "PI = np.array([0.2, 0.4, 0.6]) # Pouco Importante\n",
    "IM = np.array([0.4, 0.6, 0.8]) # Importancia Media\n",
    "I = np.array([0.6, 0.8, 1.0]) # Importante\n",
    "MI = np.array([0.8, 0.8, 1.0]) # Muito Importante"
   ]
  },
  {
   "cell_type": "code",
   "execution_count": 3,
   "metadata": {},
   "outputs": [],
   "source": [
    "#Avaliação das Alternativas\n",
    "dados_matriz_decisao = {\n",
    "    \"C1\": [MB, B, M, R, MR, MB,MB, R, B],  #(S1,S2,S3,S4,S5,S6,S7,S8,S9)\n",
    "    \"C2\": [MB, B, M, R, MR, R, MR, B, MR], #(S1,S2,S3,S4,S5,S6,S7,S8,S9)\n",
    "    \"C3\": [MB, B, M, R, MR, B, B, B, R],   #(S1,S2,S3,S4,S5,S6,S7,S8,S9)\n",
    "    \"C4\": [MB, B, M, R, MR, MB, MB, B, MB] #(S1,S2,S3,S4,S5,S6,S7,S8,S9)\n",
    "}\n",
    "matriz_decisao = pd.DataFrame(dados_matriz_decisao)\n",
    "\n",
    "dados_perfil = {\n",
    "    \"C1\": [MB, B, R],\n",
    "    \"C2\": [B, M, R],\n",
    "    \"C3\": [B, M, MR],\n",
    "    \"C4\": [MB, B, M]\n",
    "}\n",
    "matriz_perfil = pd.DataFrame(dados_perfil)\n",
    "\n",
    "mapeamento_perfil = {0: 'Preferível', 1: 'Aceitável', 2: 'Inaceitável'}\n",
    "\n",
    "#Avaliação dos Pesos dos Critérios\n",
    "pesos = {\"C1\": [I], \"C2\": [IM], \"C3\": [IM], \"C4\": [I]}\n",
    "pesos = pd.DataFrame(pesos)\n",
    "\n",
    "#Avaliação dos Critérios\n",
    "tipo_criterio = {\n",
    "    \"C1\": ct.Benefit,\n",
    "    \"C2\": ct.Benefit,\n",
    "    \"C3\": ct.Benefit,\n",
    "    \"C4\": ct.Benefit,\n",
    "}"
   ]
  },
  {
   "cell_type": "code",
   "execution_count": 4,
   "metadata": {},
   "outputs": [],
   "source": [
    "#Normalizar matriz de decisao\n",
    "matriz_normalizada = ft.normalize_matrix(matriz_decisao, tipo_criterio)\n",
    "\n",
    "#Ponderar matriz de perfil\n",
    "matriz_ponderada = ft.weigh_matrix(matriz_normalizada, pesos)\n",
    "\n",
    "#Arredondar numeros para 4 casas decimais\n",
    "matriz_decisao_normalizada_ponderada  = ft.round_weighted_normalized_matrix(matriz_ponderada)\n",
    "\n",
    "#Normalizar matriz de perfil\n",
    "matriz_perfil_normalizada = ft.normalize_matrix(matriz_perfil, tipo_criterio)\n",
    "\n",
    "#Ponderar matriz de perfil\n",
    "matriz_perfil_ponderada = ft.weigh_matrix(matriz_perfil_normalizada, pesos)\n",
    "\n",
    "#Arredondar numeros para 4 casas decimais\n",
    "matriz_perfil_normalizada_ponderada = ft.round_weighted_normalized_matrix(matriz_perfil_ponderada)"
   ]
  },
  {
   "cell_type": "code",
   "execution_count": 5,
   "metadata": {},
   "outputs": [],
   "source": [
    "solucao_ideal_positiva, solucao_ideal_negativa = ft.ideal_solution(matriz_perfil_normalizada_ponderada, mapeamento_perfil)\n",
    "\n",
    "distancia_positiva, distancia_neagtiva = ft.distance_calculation(matriz_decisao_normalizada_ponderada, solucao_ideal_positiva, solucao_ideal_negativa)\n",
    "\n",
    "resultado = ft.proximity_coefficient(distancia_positiva, distancia_neagtiva)"
   ]
  },
  {
   "cell_type": "code",
   "execution_count": 6,
   "metadata": {},
   "outputs": [
    {
     "data": {
      "text/html": [
       "<div>\n",
       "<style scoped>\n",
       "    .dataframe tbody tr th:only-of-type {\n",
       "        vertical-align: middle;\n",
       "    }\n",
       "\n",
       "    .dataframe tbody tr th {\n",
       "        vertical-align: top;\n",
       "    }\n",
       "\n",
       "    .dataframe thead th {\n",
       "        text-align: right;\n",
       "    }\n",
       "</style>\n",
       "<table border=\"1\" class=\"dataframe\">\n",
       "  <thead>\n",
       "    <tr style=\"text-align: right;\">\n",
       "      <th></th>\n",
       "      <th>Preferível</th>\n",
       "      <th>Aceitável</th>\n",
       "      <th>Inaceitável</th>\n",
       "    </tr>\n",
       "  </thead>\n",
       "  <tbody>\n",
       "    <tr>\n",
       "      <th>Fornecedor 1</th>\n",
       "      <td>0.893756</td>\n",
       "      <td>0.696028</td>\n",
       "      <td>0.106244</td>\n",
       "    </tr>\n",
       "    <tr>\n",
       "      <th>Fornecedor 2</th>\n",
       "      <td>0.826110</td>\n",
       "      <td>0.815191</td>\n",
       "      <td>0.173890</td>\n",
       "    </tr>\n",
       "    <tr>\n",
       "      <th>Fornecedor 3</th>\n",
       "      <td>0.406098</td>\n",
       "      <td>0.615665</td>\n",
       "      <td>0.593902</td>\n",
       "    </tr>\n",
       "    <tr>\n",
       "      <th>Fornecedor 4</th>\n",
       "      <td>0.173267</td>\n",
       "      <td>0.236106</td>\n",
       "      <td>0.826733</td>\n",
       "    </tr>\n",
       "    <tr>\n",
       "      <th>Fornecedor 5</th>\n",
       "      <td>0.238368</td>\n",
       "      <td>0.288212</td>\n",
       "      <td>0.761632</td>\n",
       "    </tr>\n",
       "    <tr>\n",
       "      <th>Fornecedor 6</th>\n",
       "      <td>0.805949</td>\n",
       "      <td>0.682908</td>\n",
       "      <td>0.194051</td>\n",
       "    </tr>\n",
       "    <tr>\n",
       "      <th>Fornecedor 7</th>\n",
       "      <td>0.762105</td>\n",
       "      <td>0.660319</td>\n",
       "      <td>0.237895</td>\n",
       "    </tr>\n",
       "    <tr>\n",
       "      <th>Fornecedor 8</th>\n",
       "      <td>0.591658</td>\n",
       "      <td>0.572524</td>\n",
       "      <td>0.408342</td>\n",
       "    </tr>\n",
       "    <tr>\n",
       "      <th>Fornecedor 9</th>\n",
       "      <td>0.530232</td>\n",
       "      <td>0.631823</td>\n",
       "      <td>0.469768</td>\n",
       "    </tr>\n",
       "  </tbody>\n",
       "</table>\n",
       "</div>"
      ],
      "text/plain": [
       "              Preferível  Aceitável  Inaceitável\n",
       "Fornecedor 1    0.893756   0.696028     0.106244\n",
       "Fornecedor 2    0.826110   0.815191     0.173890\n",
       "Fornecedor 3    0.406098   0.615665     0.593902\n",
       "Fornecedor 4    0.173267   0.236106     0.826733\n",
       "Fornecedor 5    0.238368   0.288212     0.761632\n",
       "Fornecedor 6    0.805949   0.682908     0.194051\n",
       "Fornecedor 7    0.762105   0.660319     0.237895\n",
       "Fornecedor 8    0.591658   0.572524     0.408342\n",
       "Fornecedor 9    0.530232   0.631823     0.469768"
      ]
     },
     "execution_count": 6,
     "metadata": {},
     "output_type": "execute_result"
    }
   ],
   "source": [
    "fornecedores = [\"Fornecedor 1\", \"Fornecedor 2\", \"Fornecedor 3\", \"Fornecedor 4\",\n",
    "                \"Fornecedor 5\", \"Fornecedor 6\", \"Fornecedor 7\", \"Fornecedor 8\", \"Fornecedor 9\"]\n",
    "\n",
    "resultado.index=fornecedores\n",
    "\n",
    "resultado"
   ]
  }
 ],
 "metadata": {
  "kernelspec": {
   "display_name": "Python 3",
   "language": "python",
   "name": "python3"
  },
  "language_info": {
   "codemirror_mode": {
    "name": "ipython",
    "version": 3
   },
   "file_extension": ".py",
   "mimetype": "text/x-python",
   "name": "python",
   "nbconvert_exporter": "python",
   "pygments_lexer": "ipython3",
   "version": "3.11.4"
  },
  "orig_nbformat": 4
 },
 "nbformat": 4,
 "nbformat_minor": 2
}
